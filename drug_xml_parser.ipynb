{
  "nbformat": 4,
  "nbformat_minor": 0,
  "metadata": {
    "colab": {
      "provenance": [],
      "authorship_tag": "ABX9TyPJLwlnaPm+HNplDqcSEUqG",
      "include_colab_link": true
    },
    "kernelspec": {
      "name": "python3",
      "display_name": "Python 3"
    },
    "language_info": {
      "name": "python"
    }
  },
  "cells": [
    {
      "cell_type": "markdown",
      "metadata": {
        "id": "view-in-github",
        "colab_type": "text"
      },
      "source": [
        "<a href=\"https://colab.research.google.com/github/kalyani234/drug_dissertation/blob/main/drug_xml_parser.ipynb\" target=\"_parent\"><img src=\"https://colab.research.google.com/assets/colab-badge.svg\" alt=\"Open In Colab\"/></a>"
      ]
    },
    {
      "cell_type": "code",
      "execution_count": 1,
      "metadata": {
        "id": "wmDq6s_VHh32",
        "colab": {
          "base_uri": "https://localhost:8080/"
        },
        "outputId": "20446f67-1620-440f-fc91-14b3ae570925"
      },
      "outputs": [
        {
          "output_type": "stream",
          "name": "stdout",
          "text": [
            "Mounted at /content/drive\n"
          ]
        }
      ],
      "source": [
        "from google.colab import drive\n",
        "drive.mount('/content/drive')\n"
      ]
    },
    {
      "cell_type": "code",
      "source": [
        "!pip install lxml beautifulsoup4\n"
      ],
      "metadata": {
        "colab": {
          "base_uri": "https://localhost:8080/"
        },
        "id": "q-SXMGJNMwnt",
        "outputId": "12afe1ca-a85b-458d-d42e-7dc2027b02b7"
      },
      "execution_count": 2,
      "outputs": [
        {
          "output_type": "stream",
          "name": "stdout",
          "text": [
            "Requirement already satisfied: lxml in /usr/local/lib/python3.10/dist-packages (5.3.0)\n",
            "Requirement already satisfied: beautifulsoup4 in /usr/local/lib/python3.10/dist-packages (4.12.3)\n",
            "Requirement already satisfied: soupsieve>1.2 in /usr/local/lib/python3.10/dist-packages (from beautifulsoup4) (2.6)\n"
          ]
        }
      ]
    },
    {
      "cell_type": "code",
      "source": [
        "import xml.etree.ElementTree as ET\n",
        "import pandas as pd\n",
        "\n",
        "# Update the path to point to your Google Drive\n",
        "tree = ET.parse(\"/content/drive/MyDrive/ColabNotebooks/drug/fulldatabase.xml\")  # Make sure to use the correct path to your file\n",
        "root = tree.getroot()\n",
        "\n",
        "# Define namespaces to handle the XML namespace in the tags\n",
        "namespace = \"{http://www.drugbank.ca}\"\n",
        "\n",
        "# Extract drug-target interactions\n",
        "drug_targets = []\n",
        "for drug in root.findall(f\".//{namespace}drug\"):\n",
        "    drug_id = drug.find(f\"{namespace}drugbank-id\").text\n",
        "    for target in drug.findall(f\".//{namespace}target\"):\n",
        "        polypeptide = target.find(f\"{namespace}polypeptide\")\n",
        "        if polypeptide is not None:\n",
        "            protein_id = polypeptide.get(\"id\")\n",
        "            if protein_id:\n",
        "                drug_targets.append({\"drug_id\": drug_id, \"protein_id\": protein_id})\n",
        "\n",
        "# Save drug-target interactions to CSV\n",
        "drug_targets_df = pd.DataFrame(drug_targets)\n",
        "drug_targets_df.to_csv(\"/content/drive/MyDrive/drug_targets.csv\", index=False)\n",
        "print(\"Drug-target interactions saved to drug_targets.csv\")\n",
        "\n",
        "# Extract drug-drug interactions\n",
        "ddi_labels = []\n",
        "for drug in root.findall(f\".//{namespace}drug\"):\n",
        "    drug_id = drug.find(f\"{namespace}drugbank-id\").text\n",
        "    for interaction in drug.findall(f\".//{namespace}drug-interactions/{namespace}drug-interaction\"):\n",
        "        interacting_drug_id = interaction.find(f\"{namespace}drugbank-id\").text\n",
        "        ddi_labels.append({\"drug1\": drug_id, \"drug2\": interacting_drug_id, \"label\": 1})  # Label as 1 for interaction\n",
        "\n",
        "# Save drug-drug interactions to CSV\n",
        "ddi_labels_df = pd.DataFrame(ddi_labels)\n",
        "ddi_labels_df.to_csv(\"/content/drive/MyDrive/ddi_labels.csv\", index=False)\n",
        "print(\"Drug-drug interactions saved to ddi_labels.csv\")\n"
      ],
      "metadata": {
        "colab": {
          "base_uri": "https://localhost:8080/"
        },
        "id": "7pjG4A33MwsT",
        "outputId": "be110ebd-2e6b-4ac4-aea0-8e9b053d992a"
      },
      "execution_count": 1,
      "outputs": [
        {
          "output_type": "stream",
          "name": "stdout",
          "text": [
            "Drug-target interactions saved to drug_targets.csv\n",
            "Drug-drug interactions saved to ddi_labels.csv\n"
          ]
        }
      ]
    },
    {
      "cell_type": "code",
      "source": [],
      "metadata": {
        "id": "s-DOeVrbMwvL"
      },
      "execution_count": null,
      "outputs": []
    }
  ]
}