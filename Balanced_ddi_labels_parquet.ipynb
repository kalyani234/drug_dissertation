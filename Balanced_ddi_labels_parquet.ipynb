{
  "nbformat": 4,
  "nbformat_minor": 0,
  "metadata": {
    "colab": {
      "provenance": [],
      "authorship_tag": "ABX9TyNqAfMUoaD6C7gDqhCw5Lf0",
      "include_colab_link": true
    },
    "kernelspec": {
      "name": "python3",
      "display_name": "Python 3"
    },
    "language_info": {
      "name": "python"
    }
  },
  "cells": [
    {
      "cell_type": "markdown",
      "metadata": {
        "id": "view-in-github",
        "colab_type": "text"
      },
      "source": [
        "<a href=\"https://colab.research.google.com/github/kalyani234/drug_dissertation/blob/main/Balanced_ddi_labels_parquet.ipynb\" target=\"_parent\"><img src=\"https://colab.research.google.com/assets/colab-badge.svg\" alt=\"Open In Colab\"/></a>"
      ]
    },
    {
      "cell_type": "code",
      "execution_count": 1,
      "metadata": {
        "colab": {
          "base_uri": "https://localhost:8080/"
        },
        "id": "NLXkU6-Fp7RZ",
        "outputId": "070e2527-b82f-4415-c562-587958df1fa4"
      },
      "outputs": [
        {
          "output_type": "stream",
          "name": "stdout",
          "text": [
            "Mounted at /content/drive\n",
            "Original ddi_labels head:\n",
            "      drug1    drug2  label\n",
            "0  DB00001  DB06605      1\n",
            "1  DB00001  DB06695      1\n",
            "2  DB00001  DB01254      1\n",
            "3  DB00001  DB01609      1\n",
            "4  DB00001  DB01586      1\n",
            "Label distribution before saving:\n",
            " label\n",
            "1    2839610\n",
            "0    2839610\n",
            "Name: count, dtype: int64\n",
            "Balanced DDI labels saved to /content/drive/MyDrive/ColabNotebooks/drug/balanced_ddi_labels.csv\n",
            "Label distribution after reloading from file:\n",
            " label\n",
            "1    2839610\n",
            "0    2839610\n",
            "Name: count, dtype: int64\n"
          ]
        }
      ],
      "source": [
        "import pandas as pd\n",
        "import random\n",
        "\n",
        "# Mount Google Drive\n",
        "from google.colab import drive\n",
        "drive.mount('/content/drive')\n",
        "\n",
        "# Define paths\n",
        "input_path = '/content/drive/MyDrive/ColabNotebooks/drug/ddi_labels.csv'\n",
        "output_path = '/content/drive/MyDrive/ColabNotebooks/drug/balanced_ddi_labels.csv'\n",
        "\n",
        "# Load original ddi_labels.csv with positive interactions (label = 1)\n",
        "ddi_labels = pd.read_csv(input_path)\n",
        "\n",
        "# Check structure of the original data\n",
        "print(\"Original ddi_labels head:\\n\", ddi_labels.head())\n",
        "\n",
        "# Ensure 'drug1', 'drug2', and 'label' columns are present\n",
        "assert {'drug1', 'drug2', 'label'}.issubset(ddi_labels.columns), \"ddi_labels.csv must have columns: 'drug1', 'drug2', and 'label'\"\n",
        "\n",
        "# Get all unique drug IDs from the interacting pairs\n",
        "all_drugs = pd.unique(ddi_labels[['drug1', 'drug2']].values.ravel())\n",
        "positive_pairs = set(tuple(sorted([row['drug1'], row['drug2']])) for _, row in ddi_labels.iterrows())\n",
        "\n",
        "# Number of negative samples to generate (equal to positive samples)\n",
        "num_negative_samples = len(ddi_labels)\n",
        "\n",
        "# Generate a pool of random pairs\n",
        "negative_samples = []\n",
        "while len(negative_samples) < num_negative_samples:\n",
        "    # Randomly sample two drugs to create a pair\n",
        "    drug1, drug2 = random.sample(list(all_drugs), 2)\n",
        "    pair = tuple(sorted([drug1, drug2]))  # Sort for consistency\n",
        "\n",
        "    # Add to negative samples only if it's not in positive pairs\n",
        "    if pair not in positive_pairs:\n",
        "        negative_samples.append({'drug1': drug1, 'drug2': drug2, 'label': 0})\n",
        "        positive_pairs.add(pair)  # Prevent duplicate pairs\n",
        "\n",
        "# Create DataFrame for negative samples\n",
        "negative_df = pd.DataFrame(negative_samples)\n",
        "\n",
        "# Combine positive and negative samples\n",
        "balanced_ddi_labels = pd.concat([ddi_labels, negative_df], ignore_index=True)\n",
        "\n",
        "# Verify distribution of labels in memory\n",
        "print(\"Label distribution before saving:\\n\", balanced_ddi_labels['label'].value_counts())\n",
        "\n",
        "# Save the balanced dataset explicitly\n",
        "balanced_ddi_labels.to_csv(output_path, index=False)\n",
        "print(f\"Balanced DDI labels saved to {output_path}\")\n",
        "\n",
        "# Reload and verify after saving to confirm persistence\n",
        "balanced_ddi_labels_check = pd.read_csv(output_path)\n",
        "print(\"Label distribution after reloading from file:\\n\", balanced_ddi_labels_check['label'].value_counts())\n"
      ]
    },
    {
      "cell_type": "code",
      "source": [
        "import pandas as pd\n",
        "\n",
        "# Load the full dataset from CSV\n",
        "file_path = '/content/drive/MyDrive/ColabNotebooks/drug/balanced_ddi_labels.csv'\n",
        "balanced_ddi_labels = pd.read_csv(file_path)\n",
        "\n",
        "# Save the dataset in Parquet format\n",
        "parquet_path = '/content/drive/MyDrive/ColabNotebooks/drug/balanced_ddi_labels.parquet'\n",
        "balanced_ddi_labels.to_parquet(parquet_path, index=False)\n",
        "\n",
        "print(f\"Data saved to {parquet_path} in Parquet format.\")\n"
      ],
      "metadata": {
        "colab": {
          "base_uri": "https://localhost:8080/"
        },
        "id": "VaILPVCRyX7z",
        "outputId": "b7db4dcf-eda0-4734-b8c3-61364fee92fd"
      },
      "execution_count": 2,
      "outputs": [
        {
          "output_type": "stream",
          "name": "stdout",
          "text": [
            "Data saved to /content/drive/MyDrive/ColabNotebooks/drug/balanced_ddi_labels.parquet in Parquet format.\n"
          ]
        }
      ]
    },
    {
      "cell_type": "code",
      "source": [
        "import pandas as pd\n",
        "\n",
        "# Load the Parquet file\n",
        "parquet_path = '/content/drive/MyDrive/ColabNotebooks/drug/balanced_ddi_labels.parquet'\n",
        "data = pd.read_parquet(parquet_path)\n",
        "\n",
        "# Display the first few rows\n",
        "print(data.head())\n",
        "\n",
        "# Display summary statistics or specific columns if needed\n",
        "print(data.describe())\n"
      ],
      "metadata": {
        "colab": {
          "base_uri": "https://localhost:8080/"
        },
        "id": "4RI8dYCjy20z",
        "outputId": "d09488c2-c018-4f09-a8e5-72c1861d5a3a"
      },
      "execution_count": 3,
      "outputs": [
        {
          "output_type": "stream",
          "name": "stdout",
          "text": [
            "     drug1    drug2  label\n",
            "0  DB00001  DB06605      1\n",
            "1  DB00001  DB06695      1\n",
            "2  DB00001  DB01254      1\n",
            "3  DB00001  DB01609      1\n",
            "4  DB00001  DB01586      1\n",
            "           label\n",
            "count  5679220.0\n",
            "mean         0.5\n",
            "std          0.5\n",
            "min          0.0\n",
            "25%          0.0\n",
            "50%          0.5\n",
            "75%          1.0\n",
            "max          1.0\n"
          ]
        }
      ]
    }
  ]
}